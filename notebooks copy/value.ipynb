{
 "cells": [
  {
   "cell_type": "code",
   "execution_count": 2,
   "metadata": {},
   "outputs": [
    {
     "name": "stderr",
     "output_type": "stream",
     "text": [
      "/Users/ar-yukoh.shimizu/Library/Python/3.9/lib/python/site-packages/tqdm/auto.py:22: TqdmWarning: IProgress not found. Please update jupyter and ipywidgets. See https://ipywidgets.readthedocs.io/en/stable/user_install.html\n",
      "  from .autonotebook import tqdm as notebook_tqdm\n"
     ]
    }
   ],
   "source": [
    "import torch\n",
    "import torch.nn as nn\n",
    "import torch.nn.functional as F\n",
    "import torch.optim as optim\n",
    "import numpy as np\n",
    "import random\n",
    "import chess\n",
    "import chess.pgn"
   ]
  },
  {
   "cell_type": "code",
   "execution_count": 3,
   "metadata": {},
   "outputs": [
    {
     "name": "stdout",
     "output_type": "stream",
     "text": [
      "CUDA is not available, using CPU\n"
     ]
    }
   ],
   "source": [
    "if torch.cuda.is_available():\n",
    "    device = torch.device(\"cuda\")\n",
    "    print('Using CUDA device:', device)\n",
    "else:\n",
    "    device = torch.device(\"cpu\")\n",
    "    print('CUDA is not available, using CPU')"
   ]
  },
  {
   "cell_type": "code",
   "execution_count": 4,
   "metadata": {},
   "outputs": [
    {
     "ename": "ModuleNotFoundError",
     "evalue": "No module named 'chess_engine'",
     "output_type": "error",
     "traceback": [
      "\u001b[0;31m---------------------------------------------------------------------------\u001b[0m",
      "\u001b[0;31mModuleNotFoundError\u001b[0m                       Traceback (most recent call last)",
      "Cell \u001b[0;32mIn[4], line 1\u001b[0m\n\u001b[0;32m----> 1\u001b[0m \u001b[39mfrom\u001b[39;00m \u001b[39mchess_engine\u001b[39;00m\u001b[39m.\u001b[39;00m\u001b[39mutils\u001b[39;00m\u001b[39m.\u001b[39;00m\u001b[39mutils\u001b[39;00m \u001b[39mimport\u001b[39;00m uci_dict, uci_table, piece_values\n\u001b[1;32m      2\u001b[0m \u001b[39mfrom\u001b[39;00m \u001b[39mchess_engine\u001b[39;00m\u001b[39m.\u001b[39;00m\u001b[39mutils\u001b[39;00m\u001b[39m.\u001b[39;00m\u001b[39mdataloader\u001b[39;00m \u001b[39mimport\u001b[39;00m DataLoader, TestLoader\n\u001b[1;32m      3\u001b[0m \u001b[39mfrom\u001b[39;00m \u001b[39mchess_engine\u001b[39;00m\u001b[39m.\u001b[39;00m\u001b[39mmodel\u001b[39;00m\u001b[39m.\u001b[39;00m\u001b[39mpolicy\u001b[39;00m \u001b[39mimport\u001b[39;00m PolicyNetwork\n",
      "\u001b[0;31mModuleNotFoundError\u001b[0m: No module named 'chess_engine'"
     ]
    }
   ],
   "source": [
    "from chess_engine.utils.utils import uci_dict, uci_table, piece_values\n",
    "from chess_engine.utils.dataloader import DataLoader, TestLoader\n",
    "from chess_engine.model.policy import PolicyNetwork"
   ]
  },
  {
   "cell_type": "code",
   "execution_count": 3,
   "metadata": {},
   "outputs": [
    {
     "ename": "NameError",
     "evalue": "name 'num_iterations' is not defined",
     "output_type": "error",
     "traceback": [
      "\u001b[0;31m---------------------------------------------------------------------------\u001b[0m",
      "\u001b[0;31mNameError\u001b[0m                                 Traceback (most recent call last)",
      "Cell \u001b[0;32mIn[3], line 110\u001b[0m\n\u001b[1;32m    107\u001b[0m     value_optimizer\u001b[39m.\u001b[39mstep()\n\u001b[1;32m    109\u001b[0m \u001b[39m# Train the networks using a combination of supervised and reinforcement learning\u001b[39;00m\n\u001b[0;32m--> 110\u001b[0m \u001b[39mfor\u001b[39;00m i \u001b[39min\u001b[39;00m \u001b[39mrange\u001b[39m(num_iterations):\n\u001b[1;32m    111\u001b[0m     data \u001b[39m=\u001b[39m generate_data_using_equivalent_of_AlphaGo_Fan()\n\u001b[1;32m    112\u001b[0m     train_policy_value_networks(data)\n",
      "\u001b[0;31mNameError\u001b[0m: name 'num_iterations' is not defined"
     ]
    }
   ],
   "source": [
    "# Define the value network\n",
    "class ValueNetwork(nn.Module):\n",
    "    def __init__(self):\n",
    "        super(ValueNetwork, self).__init__()\n",
    "        self.conv1 = nn.Conv2d(1, 64, 3, stride=1, padding=1)\n",
    "        self.bn1 = nn.BatchNorm2d(64)\n",
    "        self.relu1 = nn.ReLU(inplace=True)\n",
    "        self.conv2 = nn.Conv2d(64, 128, 3, stride=1, padding=1)\n",
    "        self.bn2 = nn.BatchNorm2d(128)\n",
    "        self.relu2 = nn.ReLU(inplace=True)\n",
    "        self.conv3 = nn.Conv2d(128, 128, 3, stride=1, padding=1)\n",
    "        self.bn3 = nn.BatchNorm2d(128)\n",
    "        self.relu3 = nn.ReLU(inplace=True)\n",
    "        self.fc1 = nn.Linear(128 * 8 * 8, 1024)\n",
    "        self.bn4 = nn.BatchNorm1d(1024)\n",
    "        self.relu4 = nn.ReLU(inplace=True)\n",
    "        self.fc2 = nn.Linear(1024, 1)\n",
    "\n",
    "    def forward(self, x):\n",
    "        x = self.conv1(x)\n",
    "        x = self.bn1(x)\n",
    "        x = self.relu1(x)\n",
    "        x = self.conv2(x)\n",
    "        x = self.bn2(x)\n",
    "        x = self.relu2(x)\n",
    "        x = self.conv3(x)\n",
    "        x = self.bn3(x)\n",
    "        x = self.relu3(x)\n",
    "        x = x.view(x.size(0), -1)\n",
    "        x = self.fc1(x)\n",
    "        x = self.bn4(x)\n",
    "        x = self.relu4(x)\n",
    "        x = self.fc2(x)\n",
    "        x = torch.tanh(x)\n",
    "        return x\n",
    "\n",
    "# Define the policy network\n",
    "policy_network = PolicyNetwork()\n",
    "value_network = ValueNetwork()\n",
    "\n",
    "# Define the loss functions\n",
    "policy_criterion = nn.CrossEntropyLoss()\n",
    "value_criterion = nn.MSELoss()\n",
    "\n",
    "# Define the optimizer\n",
    "policy_optimizer = optim.Adam(policy_network.parameters(), lr=0.01)\n",
    "value_optimizer = optim.Adam(value_network.parameters(), lr=0.01)\n",
    "\n",
    "# Define the training loop\n",
    "def train_policy_value_networks(data):\n",
    "    # Train the policy network using supervised learning\n",
    "    policy_network.train()\n",
    "    policy_optimizer.zero_grad()\n",
    "    states = data['states']\n",
    "    actions = data['actions']\n",
    "    states_tensor = torch.tensor(states, dtype=torch.float32).unsqueeze(1)\n",
    "    actions_tensor = torch.tensor(actions, dtype=torch.long)\n",
    "    logits = policy_network(states_tensor)\n",
    "    policy_loss = policy_criterion(logits.view(-1, 4096), actions_tensor)\n",
    "    policy_loss.backward()\n",
    "    policy_optimizer.step()\n",
    "\n",
    "    # Train the value network using reinforcement learning\n",
    "    value_network.train()\n",
    "    value_optimizer.zero_grad()\n",
    "    states = data['states']\n",
    "    values = data['values']\n",
    "    states_tensor = torch.tensor(states, dtype=torch.float32).unsqueeze(1)\n",
    "    values_tensor = torch.tensor(values, dtype=torch.float32)\n",
    "    outputs = value_network(states_tensor).view(-1)\n",
    "    value_loss = value_criterion(outputs, values_tensor)\n",
    "    value_loss.backward()\n",
    "    value_optimizer.step()\n",
    "\n",
    "# Train the networks using a combination of supervised and reinforcement learning\n",
    "for i in range(num_iterations):\n",
    "    data = generate_data_using_equivalent_of_AlphaGo_Fan()\n",
    "    train_policy_value_networks(data)"
   ]
  },
  {
   "cell_type": "code",
   "execution_count": null,
   "metadata": {},
   "outputs": [],
   "source": [
    "class RLAgent:\n",
    "    def __init__(self, env, alpha=0.001, gamma=0.99):\n",
    "        self.env = env\n",
    "        self.alpha = alpha\n",
    "        self.gamma = gamma\n",
    "        self.value_network = ValueNetwork()\n",
    "        self.optimizer = optim.Adam(self.value_network.parameters(), lr=self.alpha)\n",
    "        self.model = MyNeuralNet()\n",
    "\n",
    "    def get_action(self, state):\n",
    "        move = self.model.predict(state)\n",
    "        return move\n",
    "    \n",
    "    def play_game(self, num_games=100, temperature=1.0):\n",
    "        data = []\n",
    "        \n",
    "        for i in range(num_games):\n",
    "            board = chess.Board()\n",
    "            states, policies, values = [], [], []\n",
    "                \n",
    "            while not board.is_game_over():\n",
    "                # get the current state as input to the policy network\n",
    "                state = createStateObj(board)\n",
    "                states.append(state)\n",
    "                \n",
    "                # use the policy network to choose a move\n",
    "                legal_moves = board.legal_moves\n",
    "                legal_mask = torch.zeros(1968).to(device)\n",
    "                for move in legal_moves:\n",
    "                    legal_mask[uci_table.index(move.uci())] = 1\n",
    "                \n",
    "                policy = self.policy_network(state, legal_mask)\n",
    "                policies.append(policy)\n",
    "                \n",
    "                # sample from the policy with a temperature parameter\n",
    "                action_probs = self.softmax(policy / temperature)\n",
    "                action = np.random.choice(len(action_probs), p=action_probs)\n",
    "                \n",
    "                # make the selected move on the board\n",
    "                board.push(chess.Move.from_uci(uci_table[action]))\n",
    "                \n",
    "                # add the value of the current board to the list of values\n",
    "                values.append(self.get_value(board))\n",
    "            \n",
    "            # update the data with the game results\n",
    "            result = self.get_result(board)\n",
    "            for j in range(len(states)):\n",
    "                data.append((states[j], policies[j], values[j], result))\n",
    "\n",
    "        return data\n",
    "\n",
    "    def train(self, num_games):\n",
    "        for i in range(num_games):\n",
    "            self.play_game()\n"
   ]
  },
  {
   "cell_type": "code",
   "execution_count": null,
   "metadata": {},
   "outputs": [],
   "source": []
  }
 ],
 "metadata": {
  "kernelspec": {
   "display_name": "Python 3",
   "language": "python",
   "name": "python3"
  },
  "language_info": {
   "codemirror_mode": {
    "name": "ipython",
    "version": 3
   },
   "file_extension": ".py",
   "mimetype": "text/x-python",
   "name": "python",
   "nbconvert_exporter": "python",
   "pygments_lexer": "ipython3",
   "version": "3.9.6"
  },
  "orig_nbformat": 4,
  "vscode": {
   "interpreter": {
    "hash": "31f2aee4e71d21fbe5cf8b01ff0e069b9275f58929596ceb00d14d90e3e16cd6"
   }
  }
 },
 "nbformat": 4,
 "nbformat_minor": 2
}

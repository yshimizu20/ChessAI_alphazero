{
 "cells": [
  {
   "cell_type": "code",
   "execution_count": null,
   "metadata": {},
   "outputs": [],
   "source": [
    "import chess.pgn"
   ]
  },
  {
   "cell_type": "code",
   "execution_count": null,
   "metadata": {},
   "outputs": [],
   "source": [
    "date_str = \"2015-01\""
   ]
  },
  {
   "cell_type": "code",
   "execution_count": null,
   "metadata": {},
   "outputs": [],
   "source": [
    "with open(f\"lichess_db_standard_rated_{date_str}.pgn\", 'r') as rf:\n",
    "    with open(f\"processed/output_{date_str}.pgn\", 'w') as wf:\n",
    "        while True:\n",
    "            game = chess.pgn.read_game(rf)\n",
    "            if game is None:\n",
    "                break\n",
    "            # Calculate the average ELO of the two players\n",
    "            white_elo = int(game.headers[\"WhiteElo\"])\n",
    "            black_elo = int(game.headers[\"BlackElo\"])\n",
    "            avg_elo = (white_elo + black_elo) / 2\n",
    "\n",
    "            # Filter out games with an average ELO below 2000\n",
    "            if avg_elo < 2000:\n",
    "                continue\n",
    "\n",
    "            wf.write(str(game))"
   ]
  },
  {
   "cell_type": "code",
   "execution_count": null,
   "metadata": {},
   "outputs": [],
   "source": [
    "with open(f\"processed/output_2015-12.pgn\", 'r') as rf:\n",
    "    game1 = chess.pgn.read_game(rf)\n",
    "    print(1)\n",
    "    game2 = chess.pgn.read_game(rf)\n",
    "    print(2)\n",
    "    game3 = chess.pgn.read_game(rf)\n",
    "    print(3)\n",
    "\n",
    "    # with open(\"test.pgn\", 'w') as wf:\n",
    "    #     wf.write(str(game2))"
   ]
  },
  {
   "cell_type": "code",
   "execution_count": null,
   "metadata": {},
   "outputs": [],
   "source": [
    "game2.board()"
   ]
  },
  {
   "cell_type": "code",
   "execution_count": null,
   "metadata": {},
   "outputs": [],
   "source": [
    "board = game2.board()\n",
    "j = 0\n",
    "for move in game2.mainline_moves():\n",
    "    j += 1\n",
    "    if j == 147:\n",
    "        break\n",
    "    board.push(move)\n",
    "    # print(board)"
   ]
  },
  {
   "cell_type": "code",
   "execution_count": null,
   "metadata": {},
   "outputs": [],
   "source": [
    "board"
   ]
  },
  {
   "cell_type": "code",
   "execution_count": null,
   "metadata": {},
   "outputs": [],
   "source": [
    "game.mainline_moves()"
   ]
  },
  {
   "cell_type": "code",
   "execution_count": null,
   "metadata": {},
   "outputs": [],
   "source": [
    "j"
   ]
  },
  {
   "cell_type": "code",
   "execution_count": null,
   "metadata": {},
   "outputs": [],
   "source": [
    "board"
   ]
  },
  {
   "cell_type": "code",
   "execution_count": null,
   "metadata": {},
   "outputs": [],
   "source": [
    "with open(f\"processed/output_2015-12.pgn\", 'r') as rf:\n",
    "    i = 0\n",
    "    while True:\n",
    "        i += 1\n",
    "        print(i)\n",
    "        game = chess.pgn.read_game(rf)\n",
    "        if game is None:\n",
    "            break\n",
    "        \n",
    "        try:\n",
    "            print(game.headers[\"WhiteElo\"], game.headers[\"BlackElo\"])\n",
    "        except:\n",
    "            print(\"Error\")\n",
    "            continue\n",
    "\n",
    "        board = game.board()\n",
    "        j = 0\n",
    "        for move in game.mainline_moves():\n",
    "            j += 1\n",
    "            print(i, j)\n",
    "            board.push(move)\n",
    "            print(board)"
   ]
  },
  {
   "cell_type": "code",
   "execution_count": null,
   "metadata": {},
   "outputs": [],
   "source": [
    "with open(\"sample01.pgn\", 'r') as rf:\n",
    "    with open(\"sample01_out.pgn\", 'w') as wf:\n",
    "        # read each line\n",
    "        for line in rf:\n",
    "            # replace "
   ]
  },
  {
   "cell_type": "code",
   "execution_count": null,
   "metadata": {},
   "outputs": [],
   "source": [
    "f = open('random.pgn', 'r')"
   ]
  },
  {
   "cell_type": "code",
   "execution_count": null,
   "metadata": {},
   "outputs": [],
   "source": [
    "import chess.pgn\n",
    "game = chess.pgn.read_game(f)"
   ]
  },
  {
   "cell_type": "code",
   "execution_count": null,
   "metadata": {},
   "outputs": [],
   "source": [
    "game.headers"
   ]
  },
  {
   "cell_type": "code",
   "execution_count": null,
   "metadata": {},
   "outputs": [],
   "source": [
    "lst = list(game.mainline_moves())"
   ]
  },
  {
   "cell_type": "code",
   "execution_count": null,
   "metadata": {},
   "outputs": [],
   "source": [
    "f = open('processed/output_2015-01.pgn', 'r')"
   ]
  },
  {
   "cell_type": "code",
   "execution_count": null,
   "metadata": {},
   "outputs": [],
   "source": [
    "f.close()"
   ]
  },
  {
   "cell_type": "code",
   "execution_count": null,
   "metadata": {},
   "outputs": [],
   "source": [
    "g = chess.pgn.read_game(f)"
   ]
  },
  {
   "cell_type": "code",
   "execution_count": null,
   "metadata": {},
   "outputs": [],
   "source": [
    "g.headers['TimeControl']"
   ]
  },
  {
   "cell_type": "code",
   "execution_count": null,
   "metadata": {},
   "outputs": [],
   "source": [
    "g.headers"
   ]
  },
  {
   "cell_type": "code",
   "execution_count": 9,
   "metadata": {},
   "outputs": [],
   "source": [
    "from collections import defaultdict\n",
    "import chess.pgn\n",
    "\n",
    "d = defaultdict(int)\n",
    "\n",
    "with open(f\"output2_2015-01.pgn\", 'r') as f:\n",
    "    for i in range(10000):\n",
    "        g = chess.pgn.read_game(f)\n",
    "        if g is None:\n",
    "            break\n",
    "\n",
    "        # print(g.headers)\n",
    "        # print('=' * 50)\n",
    "\n",
    "        try:\n",
    "            d[g.headers['TimeControl']] += 1\n",
    "        except Exception as e:\n",
    "            d['unknown'] += 1"
   ]
  },
  {
   "cell_type": "code",
   "execution_count": 72,
   "metadata": {},
   "outputs": [],
   "source": [
    "\n",
    "i = 0\n",
    "j = 0\n",
    "k = 0\n",
    "\n",
    "with open(\"cleaned/output_2015-01.pgn\", 'r') as rf:\n",
    "    with open('filtered/output-2015_01.pgn', 'w') as wf:\n",
    "        while True:\n",
    "            i += 1\n",
    "            g = chess.pgn.read_game(rf)\n",
    "            if g is None:\n",
    "                break\n",
    "            try:\n",
    "                d[g.headers['TimeControl']] += 1\n",
    "                if int(g.headers['TimeControl'].split('+')[0]) >= 300:\n",
    "                    j += 1\n",
    "                    wf.write(str(g) + '\\n\\n')\n",
    "\n",
    "            except Exception as e:\n",
    "                k += 1\n",
    "                break"
   ]
  },
  {
   "cell_type": "code",
   "execution_count": 73,
   "metadata": {},
   "outputs": [
    {
     "data": {
      "text/plain": [
       "2142"
      ]
     },
     "execution_count": 73,
     "metadata": {},
     "output_type": "execute_result"
    }
   ],
   "source": [
    "i"
   ]
  },
  {
   "cell_type": "code",
   "execution_count": 74,
   "metadata": {},
   "outputs": [
    {
     "data": {
      "text/plain": [
       "Headers(Event='Rated Correspondence game', Site='https://lichess.org/05EwgSSy', Date='????.??.??', Round='?', White='CorrespondenceOnly', Black='Samalama', Result='1/2-1/2', BlackElo='2259', BlackRatingDiff='-50', ECO='C60', Opening='Ruy Lopez: Alapin Defense', Termination='Normal', TimeControl='-', UTCDate='2015.01.01', UTCTime='20:41:33', WhiteElo='2089', WhiteRatingDiff='+8')"
      ]
     },
     "execution_count": 74,
     "metadata": {},
     "output_type": "execute_result"
    }
   ],
   "source": [
    "g.headers"
   ]
  },
  {
   "cell_type": "code",
   "execution_count": 41,
   "metadata": {},
   "outputs": [
    {
     "data": {
      "text/plain": [
       "<Mainline at 0x10a40ec40 (1. e4 c5 2. Nc3 d6 3. f4 Nc6 4. Nf3 e6 5. Bc4 Nf6 6. d3 d5 7. exd5 exd5 8. Bb5 Bd7 9. Bxc6 Bxc6 10. Ne5 Bd6 11. O-O Qc7 12. Nxc6 Qxc6 13. Qe1+ Kf8 14. Qg3 Re8 15. Qg5 d4 16. Ne2 Rxe2 17. g3 Qg2#)>"
      ]
     },
     "execution_count": 41,
     "metadata": {},
     "output_type": "execute_result"
    }
   ],
   "source": [
    "g.mainline()"
   ]
  },
  {
   "cell_type": "code",
   "execution_count": 27,
   "metadata": {},
   "outputs": [
    {
     "data": {
      "text/plain": [
       "defaultdict(int, {116: 1, 0: 1})"
      ]
     },
     "execution_count": 27,
     "metadata": {},
     "output_type": "execute_result"
    }
   ],
   "source": [
    "d"
   ]
  },
  {
   "cell_type": "code",
   "execution_count": 54,
   "metadata": {},
   "outputs": [
    {
     "name": "stdout",
     "output_type": "stream",
     "text": [
      "60+0\n",
      "60+0\n",
      "60+0\n"
     ]
    }
   ],
   "source": [
    "d = defaultdict(int)\n",
    "\n",
    "with open('sample01.pgn', 'r') as rf:\n",
    "    while True:\n",
    "        g = chess.pgn.read_game(rf)\n",
    "        if g is None:\n",
    "            break\n",
    "\n",
    "        print(g.headers['TimeControl'])\n",
    "        \n",
    "        d[len(list(g.mainline_moves()))] += 1"
   ]
  },
  {
   "cell_type": "code",
   "execution_count": 43,
   "metadata": {},
   "outputs": [
    {
     "data": {
      "text/plain": [
       "defaultdict(int, {77: 1, 34: 1})"
      ]
     },
     "execution_count": 43,
     "metadata": {},
     "output_type": "execute_result"
    }
   ],
   "source": [
    "d"
   ]
  },
  {
   "cell_type": "code",
   "execution_count": null,
   "metadata": {},
   "outputs": [],
   "source": []
  },
  {
   "cell_type": "code",
   "execution_count": null,
   "metadata": {},
   "outputs": [],
   "source": []
  }
 ],
 "metadata": {
  "kernelspec": {
   "display_name": "Python 3",
   "language": "python",
   "name": "python3"
  },
  "language_info": {
   "codemirror_mode": {
    "name": "ipython",
    "version": 3
   },
   "file_extension": ".py",
   "mimetype": "text/x-python",
   "name": "python",
   "nbconvert_exporter": "python",
   "pygments_lexer": "ipython3",
   "version": "3.9.6 (default, Oct 18 2022, 12:41:40) \n[Clang 14.0.0 (clang-1400.0.29.202)]"
  },
  "orig_nbformat": 4,
  "vscode": {
   "interpreter": {
    "hash": "31f2aee4e71d21fbe5cf8b01ff0e069b9275f58929596ceb00d14d90e3e16cd6"
   }
  }
 },
 "nbformat": 4,
 "nbformat_minor": 2
}
